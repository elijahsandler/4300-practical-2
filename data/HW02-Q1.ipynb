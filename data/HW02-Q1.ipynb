{
 "cells": [
  {
   "cell_type": "code",
   "execution_count": 25,
   "metadata": {},
   "outputs": [],
   "source": [
    "import random\n",
    "\n",
    "def generate_list(n, sorted=False):\n",
    "    result = [random.randint(0, 100) for _ in range(n)]\n",
    "    if sorted:\n",
    "        result.sort()  # Sort the list in place\n",
    "    return result"
   ]
  },
  {
   "cell_type": "code",
   "execution_count": 26,
   "metadata": {},
   "outputs": [
    {
     "data": {
      "text/plain": [
       "[75, 100, 13, 42, 54, 37, 0, 78, 3, 52]"
      ]
     },
     "execution_count": 26,
     "metadata": {},
     "output_type": "execute_result"
    }
   ],
   "source": [
    "generate_list(10, False)"
   ]
  },
  {
   "cell_type": "code",
   "execution_count": 27,
   "metadata": {},
   "outputs": [
    {
     "name": "stdout",
     "output_type": "stream",
     "text": [
      "[27, 5, 87, 12, 84, 40, 99, 34, 97, 99]\n"
     ]
    },
    {
     "data": {
      "text/plain": [
       "(99, 99)"
      ]
     },
     "execution_count": 27,
     "metadata": {},
     "output_type": "execute_result"
    }
   ],
   "source": [
    "def closeness(ls):\n",
    "    # initialize values and difference\n",
    "    values = (ls[0], ls[1])\n",
    "    difference = abs(ls[0] - ls[1])\n",
    "\n",
    "    # iterate over all pairs of elements\n",
    "    for idx_a in range(len(ls)):\n",
    "        for idx_b in range(idx_a + 1, len(ls)):\n",
    "            a = ls[idx_a]\n",
    "            b = ls[idx_b]\n",
    "\n",
    "            # check if the difference is smaller than the current difference\n",
    "            if abs(a - b) < difference:\n",
    "                values = (a, b)\n",
    "                difference = abs(a - b)\n",
    "\n",
    "    return values\n",
    "\n",
    "ls = generate_list(10, False)\n",
    "print(ls)\n",
    "closeness(ls)"
   ]
  },
  {
   "cell_type": "code",
   "execution_count": 28,
   "metadata": {},
   "outputs": [
    {
     "name": "stdout",
     "output_type": "stream",
     "text": [
      "[10, 11, 14, 22, 24, 40, 74, 74, 76, 80]\n"
     ]
    },
    {
     "data": {
      "text/plain": [
       "(74, 74)"
      ]
     },
     "execution_count": 28,
     "metadata": {},
     "output_type": "execute_result"
    }
   ],
   "source": [
    "def sorted_closeness(ls):\n",
    "    # initialize values and difference\n",
    "    values = (ls[0], ls[1])\n",
    "    difference = abs(ls[0] - ls[1])\n",
    "\n",
    "    # iterate over consecutive pairs of elements\n",
    "    for idx in range(1, len(ls)):\n",
    "        a = ls[idx - 1]\n",
    "        b = ls[idx]\n",
    "            \n",
    "        # check if the difference is smaller than the current difference\n",
    "        if abs(a - b) < difference:\n",
    "            values = (a, b)\n",
    "            difference = abs(a - b)\n",
    "\n",
    "    return values\n",
    "\n",
    "ls = generate_list(10, True)\n",
    "print(ls)\n",
    "closeness(ls)"
   ]
  },
  {
   "cell_type": "markdown",
   "metadata": {},
   "source": [
    "#### Timing for fun"
   ]
  },
  {
   "cell_type": "code",
   "execution_count": 29,
   "metadata": {},
   "outputs": [],
   "source": [
    "import time"
   ]
  },
  {
   "cell_type": "code",
   "execution_count": 33,
   "metadata": {},
   "outputs": [],
   "source": [
    "closeness_t = []\n",
    "sorted_closeness_t = []\n",
    "\n",
    "for i in range(100):\n",
    "    # generate list\n",
    "    ls = generate_list(100)\n",
    "\n",
    "    # time closeness\n",
    "    start = time.time()\n",
    "    closeness(ls)\n",
    "    end = time.time()\n",
    "    closeness_t.append(end - start)\n",
    "\n",
    "    # sort list\n",
    "    sls = sorted(ls)\n",
    "\n",
    "    # time sorted_closeness\n",
    "    start = time.time()\n",
    "    sorted_closeness(sls)\n",
    "    end = time.time()\n",
    "    sorted_closeness_t.append(end - start)"
   ]
  },
  {
   "cell_type": "code",
   "execution_count": 34,
   "metadata": {},
   "outputs": [
    {
     "name": "stdout",
     "output_type": "stream",
     "text": [
      "closeness: 0.0005045390129089356\n",
      "sorted_closeness 1.9960403442382812e-05\n"
     ]
    }
   ],
   "source": [
    "# print results\n",
    "print('closeness:', sum(closeness_t) / len(closeness_t))\n",
    "print('sorted_closeness', sum(sorted_closeness_t) / len(sorted_closeness_t))"
   ]
  }
 ],
 "metadata": {
  "kernelspec": {
   "display_name": "ds4300env",
   "language": "python",
   "name": "python3"
  },
  "language_info": {
   "codemirror_mode": {
    "name": "ipython",
    "version": 3
   },
   "file_extension": ".py",
   "mimetype": "text/x-python",
   "name": "python",
   "nbconvert_exporter": "python",
   "pygments_lexer": "ipython3",
   "version": "3.11.9"
  }
 },
 "nbformat": 4,
 "nbformat_minor": 2
}
